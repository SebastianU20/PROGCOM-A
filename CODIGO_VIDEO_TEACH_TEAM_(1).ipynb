{
  "nbformat": 4,
  "nbformat_minor": 0,
  "metadata": {
    "colab": {
      "provenance": [],
      "include_colab_link": true
    },
    "kernelspec": {
      "name": "python3",
      "display_name": "Python 3"
    },
    "language_info": {
      "name": "python"
    }
  },
  "cells": [
    {
      "cell_type": "markdown",
      "metadata": {
        "id": "view-in-github",
        "colab_type": "text"
      },
      "source": [
        "<a href=\"https://colab.research.google.com/github/SebastianU20/PROGCOM-A/blob/main/CODIGO_VIDEO_TEACH_TEAM_(1).ipynb\" target=\"_parent\"><img src=\"https://colab.research.google.com/assets/colab-badge.svg\" alt=\"Open In Colab\"/></a>"
      ]
    },
    {
      "cell_type": "code",
      "execution_count": null,
      "metadata": {
        "colab": {
          "base_uri": "https://localhost:8080/"
        },
        "collapsed": true,
        "id": "pGtQEBSMMMA4",
        "outputId": "60311411-f249-463d-ffe4-8ef9b8e2079f"
      },
      "outputs": [
        {
          "output_type": "stream",
          "name": "stdout",
          "text": [
            "Mover brazos hacia arriba a la derecha\n",
            "Mover brazos hacia arriba a la derecha\n",
            "Mover brazos hacia arriba a la izquierda\n",
            "Mover brazos hacia arriba a la izquierda\n",
            "Hacer un salto\n",
            "Hacer un salto\n",
            "Hacer un salto\n",
            "Hacer un salto\n",
            "Caderazo con brazos arriba\n",
            "Caderazo con brazos arriba\n",
            "Caderazo con brazos arriba\n",
            "Caderazo con brazos arriba\n",
            "Mover caderas a la izquierda\n",
            "Mover caderas a la izquierda\n",
            "Mover caderas a la derecha\n",
            "Mover caderas a la derecha\n",
            "Brazos a los lados con pierna levantada\n",
            "Brazos a los lados con pierna levantada\n",
            "Brazos a los lados con pierna levantada\n",
            "Brazos a los lados con pierna levantada\n",
            "Levantar pierna a la izquierda\n",
            "Levantar pierna a la derecha\n"
          ]
        }
      ],
      "source": [
        "# Definir funciones para cada movimiento\n",
        "\n",
        "def brazos_arriba(k_derecha, k_izquierda):\n",
        "    for _ in range(k_derecha):\n",
        "        print(\"Mover brazos hacia arriba a la derecha\")\n",
        "    for _ in range(k_izquierda):\n",
        "        print(\"Mover brazos hacia arriba a la izquierda\")\n",
        "\n",
        "def saltos(k):\n",
        "    for _ in range(k):\n",
        "        print(\"Hacer un salto\")\n",
        "\n",
        "def caderazo_con_brazos_arriba(k_derecha, k_izquierda):\n",
        "    for _ in range(k_derecha):\n",
        "        print(\"Caderazo con brazos arriba\")\n",
        "    for _ in range(k_izquierda):\n",
        "        print(\"Caderazo con brazos arriba\")\n",
        "\n",
        "def caderas(k_izquierda, k_derecha):\n",
        "    for _ in range(k_izquierda):\n",
        "        print(\"Mover caderas a la izquierda\")\n",
        "    for _ in range(k_derecha):\n",
        "        print(\"Mover caderas a la derecha\")\n",
        "\n",
        "def brazos_lados_con_pierna(k_derecha, k_izquierda, k_pierna_izquierda, k_pierna_derecha):\n",
        "    for _ in range(k_derecha):\n",
        "        print(\"Brazos a los lados con pierna levantada\")\n",
        "    for _ in range(k_izquierda):\n",
        "        print(\"Brazos a los lados con pierna levantada\")\n",
        "    for _ in range(k_pierna_izquierda):\n",
        "        print(\"Levantar pierna a la izquierda\")\n",
        "    for _ in range(k_pierna_derecha):\n",
        "        print(\"Levantar pierna a la derecha\")\n",
        "\n",
        "# Función principal que llama a todas las demás funciones\n",
        "\n",
        "def rutina_bailes():\n",
        "    # Llamar las funciones con los parámetros especificados\n",
        "    brazos_arriba(2, 2)\n",
        "    saltos(4)\n",
        "    caderazo_con_brazos_arriba(2, 2)\n",
        "    caderas(2, 2)\n",
        "    brazos_lados_con_pierna(2, 2, 1, 1)\n",
        "\n",
        "# Ejecutar la rutina de baile\n",
        "rutina_bailes()\n"
      ]
    },
    {
      "cell_type": "code",
      "source": [
        "# Definir funciones para cada movimiento\n",
        "def brazos_arriba1(repeticion):\n",
        "    for _ in range(repeticion): #Corrected: Added a closing parenthesis\n",
        "        print(\"Mover brazos hacia arriba a la derecha\")\n",
        "        print(\"Mover brazos hacia arriba a la izquierda\")\n",
        "\n",
        "def saltos(k):\n",
        "    for _ in range(k):\n",
        "        print(\"Hacer un salto\")\n",
        "\n",
        "def caderazo_con_brazos_arriba(k_derecha, k_izquierda):\n",
        "    for _ in range(k_derecha):\n",
        "        print(\"Caderazo con brazos arriba\")\n",
        "    for _ in range(k_izquierda):\n",
        "        print(\"Caderazo con brazos arriba\")\n",
        "\n",
        "def giro_de_brazo(k_derecha, k_izquierda):\n",
        "    for _ in range(k_derecha):\n",
        "        print(\"Giro de brazo a la derecha\")\n",
        "    for _ in range(k_izquierda):\n",
        "        print(\"Giro de brazo a la izquierda\")\n",
        "\n",
        "def cabeza_crazy(k):\n",
        "    for _ in range(k):\n",
        "        print(\"Movimiento de cabeza crazy\")\n",
        "\n",
        "def caderas(repeticion):\n",
        "    for _ in range(repeticion):\n",
        "        print(\"Mover caderas a la izquierda\")\n",
        "        print(\"Mover caderas a la derecha\")\n",
        "\n",
        "def brazos_lados(k_derecha, k_izquierda, k_pierna_izquierda, k_pierna_derecha):\n",
        "    for _ in range(k_derecha):\n",
        "        print(\"Brazos a los lados \")\n",
        "    for _ in range(k_izquierda):\n",
        "        print(\"Brazos a los lados\")\n",
        "    for _ in range(k_pierna_izquierda):\n",
        "        print(\"Levantar pierna a la izquierda\")\n",
        "    for _ in range(k_pierna_derecha):\n",
        "        print(\"Levantar pierna a la derecha\")\n",
        "\n",
        "def hurra(k):\n",
        "    for _ in range(k):\n",
        "        print(\"¡Hurra! Brazos hacia arriba\")\n",
        "\n",
        "\n",
        "# Función principal que llama a todas las demás funciones\n",
        "\n",
        "def rutina_bailes():\n",
        "    # Llamar las funciones con los parámetros especificados\n",
        "    brazos_arriba1(2) #Corrected: Called the function with argument\n",
        "    saltos(4)\n",
        "    caderazo_con_brazos_arriba(2, 2)\n",
        "    caderas(2)\n",
        "    brazos_lados_con_pierna(2, 2, 1, 1)\n",
        "    giro_de_brazo(2, 2)\n",
        "    cabeza_crazy(1)\n",
        "    hurra(1)\n",
        "\n",
        "  # Corrected: Removed extra indentation for this line\n",
        "rutina_bailes()"
      ],
      "metadata": {
        "colab": {
          "base_uri": "https://localhost:8080/"
        },
        "id": "XwP9bsnSNewH",
        "outputId": "7ccbadd3-aa53-4796-fceb-eb2d7b9d975d"
      },
      "execution_count": null,
      "outputs": [
        {
          "output_type": "stream",
          "name": "stdout",
          "text": [
            "Mover brazos hacia arriba a la derecha\n",
            "Mover brazos hacia arriba a la izquierda\n",
            "Mover brazos hacia arriba a la derecha\n",
            "Mover brazos hacia arriba a la izquierda\n",
            "Hacer un salto\n",
            "Hacer un salto\n",
            "Hacer un salto\n",
            "Hacer un salto\n",
            "Caderazo con brazos arriba\n",
            "Caderazo con brazos arriba\n",
            "Caderazo con brazos arriba\n",
            "Caderazo con brazos arriba\n",
            "Mover caderas a la izquierda\n",
            "Mover caderas a la derecha\n",
            "Mover caderas a la izquierda\n",
            "Mover caderas a la derecha\n",
            "Brazos a los lados \n",
            "Brazos a los lados \n",
            "Brazos a los lados\n",
            "Brazos a los lados\n",
            "Levantar pierna a la izquierda\n",
            "Levantar pierna a la derecha\n",
            "Giro de brazo a la derecha\n",
            "Giro de brazo a la derecha\n",
            "Giro de brazo a la izquierda\n",
            "Giro de brazo a la izquierda\n",
            "Movimiento de cabeza crazy\n",
            "¡Hurra! Brazos hacia arriba\n"
          ]
        }
      ]
    }
  ]
}