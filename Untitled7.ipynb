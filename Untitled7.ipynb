{
  "nbformat": 4,
  "nbformat_minor": 0,
  "metadata": {
    "colab": {
      "provenance": [],
      "authorship_tag": "ABX9TyOL1yKD81EFI29kEkiqlOkA",
      "include_colab_link": true
    },
    "kernelspec": {
      "name": "python3",
      "display_name": "Python 3"
    },
    "language_info": {
      "name": "python"
    }
  },
  "cells": [
    {
      "cell_type": "markdown",
      "metadata": {
        "id": "view-in-github",
        "colab_type": "text"
      },
      "source": [
        "<a href=\"https://colab.research.google.com/github/SebastianU20/PROGCOM-A/blob/main/Untitled7.ipynb\" target=\"_parent\"><img src=\"https://colab.research.google.com/assets/colab-badge.svg\" alt=\"Open In Colab\"/></a>"
      ]
    },
    {
      "cell_type": "code",
      "execution_count": null,
      "metadata": {
        "colab": {
          "base_uri": "https://localhost:8080/"
        },
        "id": "Lsv2AmKBopAM",
        "outputId": "c74061a1-e4bc-4c89-f814-43f3185bcfb9"
      },
      "outputs": [
        {
          "output_type": "stream",
          "name": "stdout",
          "text": [
            "¡Bienvenido al Quiz de Animales!\n",
            "\n",
            "¿Cuál es el animal más rápido del mundo?\n",
            "a) León\n",
            "b) Guepardo\n",
            "c) Águila\n"
          ]
        }
      ],
      "source": [
        "# Clase para representar una pregunta del quiz\n",
        "class Pregunta:\n",
        "    def __init__(self, texto, opciones, respuesta_correcta):\n",
        "        self.texto = texto\n",
        "        self.opciones = opciones\n",
        "        self.respuesta_correcta = respuesta_correcta.lower()\n",
        "\n",
        "    def mostrar(self):\n",
        "        print(self.texto)\n",
        "        for i, opcion in enumerate(self.opciones):\n",
        "            print(f\"{chr(97 + i)}) {opcion}\")\n",
        "\n",
        "    def verificar_respuesta(self, respuesta_usuario):\n",
        "        return respuesta_usuario.lower() == self.respuesta_correcta\n",
        "\n",
        "\n",
        "# Función principal del quiz\n",
        "def iniciar_quiz():\n",
        "    puntaje = 0\n",
        "\n",
        "    preguntas = [\n",
        "        Pregunta(\"¿Cuál es el animal más rápido del mundo?\",\n",
        "                 [\"León\", \"Guepardo\", \"Águila\"], \"b\"),\n",
        "        Pregunta(\"¿Qué animal tiene mejor memoria?\",\n",
        "                 [\"Elefante\", \"Tortuga\", \"Tigre\"], \"a\"),\n",
        "        Pregunta(\"¿Cuál de estos animales puede volar?\",\n",
        "                 [\"Murciélago\", \"Perro\", \"Ballena\"], \"a\")\n",
        "    ]\n",
        "\n",
        "    print(\"¡Bienvenido al Quiz de Animales!\\n\")\n",
        "\n",
        "    for pregunta in preguntas:\n",
        "        pregunta.mostrar()\n",
        "        respuesta = input(\"Tu respuesta: \").lower()\n",
        "        if pregunta.verificar_respuesta(respuesta):\n",
        "            print(\"¡Correcto!\\n\")\n",
        "            puntaje += 1\n",
        "        else:\n",
        "            print(\"Incorrecto.\\n\")\n",
        "\n",
        "    print(f\"Tu puntaje final es: {puntaje}/{len(preguntas)}\")\n",
        "    print(\"¡Super!\")\n",
        "\n",
        "\n",
        "# Ejecutar el quiz\n",
        "iniciar_quiz()\n"
      ]
    }
  ]
}